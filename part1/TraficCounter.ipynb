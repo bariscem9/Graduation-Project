{
 "cells": [
  {
   "cell_type": "code",
   "execution_count": 1,
   "id": "28c074b6",
   "metadata": {},
   "outputs": [],
   "source": [
    "# Importing libraries \n",
    "import cv2\n",
    "import numpy as np "
   ]
  },
  {
   "cell_type": "code",
   "execution_count": 2,
   "id": "253dd66b",
   "metadata": {},
   "outputs": [],
   "source": [
    "# Web camera importing\n",
    "cap = cv2.VideoCapture(\"video.mp4\")\n",
    "\n",
    "# Count line\n",
    "count_line_position = 550\n",
    "\n",
    "# Minimum width and height rectangle\n",
    "min_width_react= 80\n",
    "min_height_react= 80\n",
    "\n",
    "# Initilaize Substructor\n",
    "algo = cv2.gbg = cv2.createBackgroundSubtractorMOG2()"
   ]
  },
  {
   "cell_type": "code",
   "execution_count": 5,
   "id": "d8b31496",
   "metadata": {},
   "outputs": [],
   "source": [
    "# Finding center.\n",
    "def center_handle(x,y,w,h):\n",
    "    x1 = int(w/2)\n",
    "    y1 = int(w/2)\n",
    "    cx= x+x1\n",
    "    cy= y+y1\n",
    "    return cx,cy\n",
    "\n",
    "detect = []\n",
    "# Allowable error between pixel\n",
    "offset = 4\n",
    "counter = 0"
   ]
  },
  {
   "cell_type": "code",
   "execution_count": 6,
   "id": "7f45e407",
   "metadata": {},
   "outputs": [
    {
     "ename": "error",
     "evalue": "OpenCV(4.5.5) /Users/runner/work/opencv-python/opencv-python/opencv/modules/imgproc/src/color.cpp:182: error: (-215:Assertion failed) !_src.empty() in function 'cvtColor'\n",
     "output_type": "error",
     "traceback": [
      "\u001b[0;31m---------------------------------------------------------------------------\u001b[0m",
      "\u001b[0;31merror\u001b[0m                                     Traceback (most recent call last)",
      "\u001b[0;32m/var/folders/1g/hpltnl4d1r7gd3nz6w1w61cm0000gn/T/ipykernel_1886/2232012600.py\u001b[0m in \u001b[0;36m<cell line: 2>\u001b[0;34m()\u001b[0m\n\u001b[1;32m      1\u001b[0m \u001b[0;32mwhile\u001b[0m \u001b[0;32mTrue\u001b[0m\u001b[0;34m:\u001b[0m\u001b[0;34m\u001b[0m\u001b[0;34m\u001b[0m\u001b[0m\n\u001b[1;32m      2\u001b[0m     \u001b[0mret\u001b[0m\u001b[0;34m,\u001b[0m\u001b[0mframe1\u001b[0m \u001b[0;34m=\u001b[0m \u001b[0mcap\u001b[0m\u001b[0;34m.\u001b[0m\u001b[0mread\u001b[0m\u001b[0;34m(\u001b[0m\u001b[0;34m)\u001b[0m\u001b[0;34m\u001b[0m\u001b[0;34m\u001b[0m\u001b[0m\n\u001b[0;32m----> 3\u001b[0;31m     \u001b[0mgrey\u001b[0m \u001b[0;34m=\u001b[0m \u001b[0mcv2\u001b[0m\u001b[0;34m.\u001b[0m\u001b[0mcvtColor\u001b[0m\u001b[0;34m(\u001b[0m\u001b[0mframe1\u001b[0m\u001b[0;34m,\u001b[0m\u001b[0mcv2\u001b[0m\u001b[0;34m.\u001b[0m\u001b[0mCOLOR_BGR2GRAY\u001b[0m\u001b[0;34m)\u001b[0m\u001b[0;34m\u001b[0m\u001b[0;34m\u001b[0m\u001b[0m\n\u001b[0m\u001b[1;32m      4\u001b[0m     \u001b[0mblur\u001b[0m \u001b[0;34m=\u001b[0m \u001b[0mcv2\u001b[0m\u001b[0;34m.\u001b[0m\u001b[0mGaussianBlur\u001b[0m\u001b[0;34m(\u001b[0m\u001b[0mgrey\u001b[0m\u001b[0;34m,\u001b[0m\u001b[0;34m(\u001b[0m\u001b[0;36m3\u001b[0m\u001b[0;34m,\u001b[0m\u001b[0;36m3\u001b[0m\u001b[0;34m)\u001b[0m\u001b[0;34m,\u001b[0m\u001b[0;36m5\u001b[0m\u001b[0;34m)\u001b[0m\u001b[0;34m\u001b[0m\u001b[0;34m\u001b[0m\u001b[0m\n\u001b[1;32m      5\u001b[0m \u001b[0;34m\u001b[0m\u001b[0m\n",
      "\u001b[0;31merror\u001b[0m: OpenCV(4.5.5) /Users/runner/work/opencv-python/opencv-python/opencv/modules/imgproc/src/color.cpp:182: error: (-215:Assertion failed) !_src.empty() in function 'cvtColor'\n"
     ]
    }
   ],
   "source": [
    "while True:\n",
    "    ret,frame1 = cap.read()\n",
    "    grey = cv2.cvtColor(frame1,cv2.COLOR_BGR2GRAY)\n",
    "    blur = cv2.GaussianBlur(grey,(3,3),5)\n",
    "    \n",
    "    # Apply to the all frames ; \n",
    "    \n",
    "    \n",
    "    # In this section, we detail the mp4 we have in order to make it the object \n",
    "    # track in the most accurate way.\n",
    "    img_sub = algo.apply(blur)\n",
    "    \n",
    "    # dilate= Morpholical filter to videos \n",
    "    # image enlargement and increase object space\n",
    "    dilat = cv2.dilate(img_sub,np.ones((5,5)))\n",
    "    \n",
    "    kernel = cv2.getStructuringElement(cv2.MORPH_ELLIPSE,(5,5))\n",
    "    dilatada = cv2.morphologyEx(dilat, cv2.MORPH_CLOSE, kernel)\n",
    "    dilatada = cv2.morphologyEx(dilatada, cv2.MORPH_CLOSE, kernel)\n",
    "    counterSahpe,h = cv2.findContours(dilatada, cv2.RETR_TREE, cv2.CHAIN_APPROX_SIMPLE)\n",
    "    \n",
    "    # Count Line Position's always appear\n",
    "    cv2.line(frame1,(25,count_line_position),(1200,count_line_position),(255,127,0),3)\n",
    "    \n",
    "    for(i,c) in enumerate(counterSahpe):\n",
    "        (x,y,w,h) = cv2.boundingRect(c)\n",
    "        validate_counter = (w >= min_width_react) and (h >= min_height_react)\n",
    "        if not validate_counter:\n",
    "            continue\n",
    "        # OpenCV-Python is a library of Python bindings designed to solve computer vision problems.\n",
    "        # cv2.rectangle() method is used to draw a rectangle on any image.\n",
    "        \n",
    "        cv2.rectangle(frame1,(x,y),(x+w,y+h),(0,255,0),2)\n",
    "        \n",
    "        # Put text in object\n",
    "        cv2.putText(frame1,\"Vehicle: \"+str(counter),(x,y-20),cv2.FONT_HERSHEY_TRIPLEX,1,(255,244,0),2)\n",
    "        \n",
    "        # Put dots in rectengle\n",
    "        center = center_handle(x,y,w,h)\n",
    "        detect.append(center)\n",
    "        cv2.circle(frame1,center,4, (0,0,255),-1)\n",
    "        # Find the sum of objects\n",
    "        for(x,y) in detect:\n",
    "            if y < (count_line_position + offset) and y > (count_line_position - offset):\n",
    "                counter += 1\n",
    "                cv2.line(frame1,(25,count_line_position),(1200,count_line_position),(0,127,255),3)\n",
    "                detect.remove((x,y))\n",
    "                print(\"Counted Vehicle: \"+str(counter))\n",
    "            \n",
    "    cv2.putText(frame1,\"Vehicle Counter : \"+str(counter),(127,70),cv2.FONT_HERSHEY_SCRIPT_SIMPLEX,3,(0,0,255,5))\n",
    "    \n",
    "    \n",
    "    \n",
    "    \n",
    "    # Video's name\n",
    "    cv2.imshow(\"Video Original\",frame1)\n",
    "\n",
    "    if cv2.waitKey(1) == 27:\n",
    "        break\n",
    "cv2.destroyAllWindows()\n",
    "cap.release()"
   ]
  },
  {
   "cell_type": "code",
   "execution_count": null,
   "id": "75a01b9e",
   "metadata": {},
   "outputs": [],
   "source": []
  },
  {
   "cell_type": "code",
   "execution_count": null,
   "id": "0e229216",
   "metadata": {},
   "outputs": [],
   "source": []
  }
 ],
 "metadata": {
  "kernelspec": {
   "display_name": "Python 3 (ipykernel)",
   "language": "python",
   "name": "python3"
  },
  "language_info": {
   "codemirror_mode": {
    "name": "ipython",
    "version": 3
   },
   "file_extension": ".py",
   "mimetype": "text/x-python",
   "name": "python",
   "nbconvert_exporter": "python",
   "pygments_lexer": "ipython3",
   "version": "3.9.7"
  }
 },
 "nbformat": 4,
 "nbformat_minor": 5
}
